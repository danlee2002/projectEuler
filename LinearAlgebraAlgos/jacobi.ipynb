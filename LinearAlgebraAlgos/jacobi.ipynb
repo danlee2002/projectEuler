{
 "cells": [
  {
   "cell_type": "code",
   "execution_count": 9,
   "metadata": {},
   "outputs": [],
   "source": [
    "import numpy  as np "
   ]
  },
  {
   "cell_type": "code",
   "execution_count": 41,
   "metadata": {},
   "outputs": [],
   "source": [
    "def jacobi(A: np.array,  b: np.array, x:np.array = None) -> np.array:\n",
    "    if x is None:\n",
    "        x = np.zeros(len(A[0]))\n",
    "\n",
    "    # Create a vector of the diagonal elements of A                                                                                                                                                \n",
    "    # and subtract them from A                                                                                                                                                                     \n",
    "    D = np.diag(A)\n",
    "    R = A - np.diagflat(D)\n",
    "    #tests for convergence \n",
    "    if np.amax(np.abs(np.linalg.eigvals(R/D))) > 1:\n",
    "        print(\"x\")\n",
    "    # Iterate for N times                                                                                                                                                                          \n",
    "    while np.linalg.norm(b - np.dot(A,x)) > 1e-5:\n",
    "        x = (b - np.dot(R,x)) / D\n",
    "        print(f'x: {x}')\n",
    "    return x"
   ]
  },
  {
   "cell_type": "code",
   "execution_count": 42,
   "metadata": {},
   "outputs": [
    {
     "name": "stdout",
     "output_type": "stream",
     "text": [
      "x: [5.5        1.85714286]\n",
      "x: [ 4.57142857 -2.07142857]\n",
      "x: [ 6.53571429 -1.40816327]\n",
      "x: [ 6.20408163 -2.81122449]\n",
      "x: [ 6.90561224 -2.57434402]\n",
      "x: [ 6.78717201 -3.07543732]\n",
      "x: [ 7.03771866 -2.99083715]\n",
      "x: [ 6.99541858 -3.16979904]\n",
      "x: [ 7.08489952 -3.1395847 ]\n",
      "x: [ 7.06979235 -3.20349966]\n",
      "x: [ 7.10174983 -3.19270882]\n",
      "x: [ 7.09635441 -3.21553559]\n",
      "x: [ 7.1077678  -3.21168172]\n",
      "x: [ 7.10584086 -3.21983414]\n",
      "x: [ 7.10991707 -3.21845776]\n",
      "x: [ 7.10922888 -3.22136934]\n",
      "x: [ 7.11068467 -3.22087777]\n",
      "x: [ 7.11043889 -3.22191762]\n",
      "x: [ 7.11095881 -3.22174206]\n",
      "x: [ 7.11087103 -3.22211344]\n",
      "x: [ 7.11105672 -3.22205074]\n",
      "x: [ 7.11102537 -3.22218337]\n",
      "x: [ 7.11109168 -3.22216098]\n",
      "x: [ 7.11108049 -3.22220835]\n",
      "x: [ 7.11110417 -3.22220035]\n",
      "x: [ 7.11110017 -3.22221727]\n",
      "x: [ 7.11110863 -3.22221441]\n",
      "x: [ 7.11110721 -3.22222045]\n",
      "[ 7.11110721 -3.22222045]\n"
     ]
    }
   ],
   "source": [
    "A = np.array([[2.0,1.0],[5.0,7.0]])\n",
    "b = np.array([11.0,13.0])\n",
    "guess = None\n",
    "x = jacobi(A,b,guess)\n",
    "print(x)"
   ]
  }
 ],
 "metadata": {
  "kernelspec": {
   "display_name": "base",
   "language": "python",
   "name": "python3"
  },
  "language_info": {
   "codemirror_mode": {
    "name": "ipython",
    "version": 3
   },
   "file_extension": ".py",
   "mimetype": "text/x-python",
   "name": "python",
   "nbconvert_exporter": "python",
   "pygments_lexer": "ipython3",
   "version": "3.9.16"
  },
  "orig_nbformat": 4
 },
 "nbformat": 4,
 "nbformat_minor": 2
}
