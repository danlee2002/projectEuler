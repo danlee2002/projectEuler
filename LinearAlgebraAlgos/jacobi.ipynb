{
 "cells": [
  {
   "cell_type": "code",
   "execution_count": 76,
   "metadata": {},
   "outputs": [],
   "source": [
    "import numpy  as np "
   ]
  },
  {
   "attachments": {},
   "cell_type": "markdown",
   "metadata": {},
   "source": [
    "# Introduction\n",
    "- The Jacobi Algorithm is an iterative algorithm for finding solutions of matrices given the fact matrix is diagonally dominant\n",
    "- Before we proceed w the iterative portion of our algorithm, the following conditions must hold true $\\rho(D^{-1}(L + U)) <1$ where $\\rho$ denotes spectral radius and L and U are the upper and lower diagonal matrices\n",
    "- If the following conditions are met, we can utilize the following enumerated below:\n",
    "  $$\n",
    "  A  \\\\\n",
    "  D = diag(A) \\\\\n",
    "  R = A - D \\\\\n",
    "  b \\\\\n",
    "  x  \\\\\n",
    "  while l_2norm(Ax -b) > terminatingCondition: \\\\\n",
    "  x = (b - Ax)/flattened(D)\n",
    "  $$"
   ]
  },
  {
   "cell_type": "markdown",
   "metadata": {},
   "source": []
  },
  {
   "cell_type": "code",
   "execution_count": 77,
   "metadata": {},
   "outputs": [],
   "source": [
    "def jacobi(A: np.array,  b: np.array, x:np.array = None) -> np.array:\n",
    "    if x is None:\n",
    "        x = np.zeros(len(A[0]))\n",
    "\n",
    "    # Create a vector of the diagonal elements of A                                                                                                                                                \n",
    "    # and subtract them from A                                                                                                                                                                     \n",
    "    D = np.diag(A)\n",
    "    R = A - np.diagflat(D)\n",
    "    #tests for convergence via the spectral radius\n",
    "    if np.amax(np.abs(np.linalg.eigvals(R/D))) > 1:\n",
    "        print(\"x\")\n",
    "    # Iterate for N times                                                                                                                                                                          \n",
    "    while np.linalg.norm(b - np.dot(A,x)) > 1e-5:\n",
    "        x = (b - np.dot(R,x)) / D\n",
    "        residual = b - np.dot(A,x) \n",
    "        print(f'x: {x} residual: {residual}')\n",
    "    return x"
   ]
  },
  {
   "cell_type": "code",
   "execution_count": 78,
   "metadata": {},
   "outputs": [
    {
     "name": "stdout",
     "output_type": "stream",
     "text": [
      "x: [5.5        1.85714286] residual: [ -1.85714286 -27.5       ]\n",
      "x: [ 4.57142857 -2.07142857] residual: [3.92857143 4.64285714]\n",
      "x: [ 6.53571429 -1.40816327] residual: [-0.66326531 -9.82142857]\n",
      "x: [ 6.20408163 -2.81122449] residual: [1.40306122 1.65816327]\n",
      "x: [ 6.90561224 -2.57434402] residual: [-0.23688047 -3.50765306]\n",
      "x: [ 6.78717201 -3.07543732] residual: [0.50109329 0.59220117]\n",
      "x: [ 7.03771866 -2.99083715] residual: [-0.08460017 -1.25273324]\n",
      "x: [ 6.99541858 -3.16979904] residual: [0.17896189 0.21150042]\n",
      "x: [ 7.08489952 -3.1395847 ] residual: [-0.03021435 -0.44740473]\n",
      "x: [ 7.06979235 -3.20349966] residual: [0.06391496 0.07553586]\n",
      "x: [ 7.10174983 -3.19270882] residual: [-0.01079084 -0.1597874 ]\n",
      "x: [ 7.09635441 -3.21553559] residual: [0.02282677 0.02697709]\n",
      "x: [ 7.1077678  -3.21168172] residual: [-0.00385387 -0.05706693]\n",
      "x: [ 7.10584086 -3.21983414] residual: [0.00815242 0.00963468]\n",
      "x: [ 7.10991707 -3.21845776] residual: [-0.00137638 -0.02038105]\n",
      "x: [ 7.10922888 -3.22136934] residual: [0.00291158 0.00344096]\n",
      "x: [ 7.11068467 -3.22087777] residual: [-0.00049157 -0.00727895]\n",
      "x: [ 7.11043889 -3.22191762] residual: [0.00103985 0.00122891]\n",
      "x: [ 7.11095881 -3.22174206] residual: [-0.00017556 -0.00259962]\n",
      "x: [ 7.11087103 -3.22211344] residual: [0.00037137 0.0004389 ]\n",
      "x: [ 7.11105672 -3.22205074] residual: [-6.26996330e-05 -9.28436873e-04]\n",
      "x: [ 7.11102537 -3.22218337] residual: [0.00013263 0.00015675]\n",
      "x: [ 7.11109168 -3.22216098] residual: [-2.23927261e-05 -3.31584598e-04]\n",
      "x: [ 7.11108049 -3.22220835] residual: [4.73692282e-05 5.59818152e-05]\n",
      "x: [ 7.11110417 -3.22220035] residual: [-7.99740217e-06 -1.18423071e-04]\n",
      "x: [ 7.11110017 -3.22221727] residual: [1.69175815e-05 1.99935054e-05]\n",
      "x: [ 7.11110863 -3.22221441] residual: [-2.85621506e-06 -4.22939538e-05]\n",
      "x: [ 7.11110721 -3.22222045] residual: [6.04199340e-06 7.14053765e-06]\n",
      "[ 7.11110721 -3.22222045]\n"
     ]
    }
   ],
   "source": [
    "A = np.array([[2.0,1.0],[5.0,7.0]])\n",
    "b = np.array([11.0,13.0])\n",
    "guess = None\n",
    "x = jacobi(A,b,guess)\n",
    "print(x)"
   ]
  }
 ],
 "metadata": {
  "kernelspec": {
   "display_name": "base",
   "language": "python",
   "name": "python3"
  },
  "language_info": {
   "codemirror_mode": {
    "name": "ipython",
    "version": 3
   },
   "file_extension": ".py",
   "mimetype": "text/x-python",
   "name": "python",
   "nbconvert_exporter": "python",
   "pygments_lexer": "ipython3",
   "version": "3.9.16"
  },
  "orig_nbformat": 4
 },
 "nbformat": 4,
 "nbformat_minor": 2
}
