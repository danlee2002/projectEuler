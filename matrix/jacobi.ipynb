{
 "cells": [
  {
   "cell_type": "code",
   "execution_count": 3,
   "metadata": {},
   "outputs": [],
   "source": [
    "import numpy  as np "
   ]
  },
  {
   "attachments": {},
   "cell_type": "markdown",
   "metadata": {},
   "source": [
    "# Introduction\n",
    "- The Jacobi Algorithm is an iterative algorithm for finding solutions of matrices given the fact matrix is diagonally dominant\n",
    "- Before we proceed w the iterative portion of our algorithm, the following conditions must hold true $\\rho(D^{-1}(L + U)) <1$ where $\\rho$ denotes spectral radius and L and U are the upper and lower diagonal matrices\n",
    "- If the following conditions are met, we can utilize the following enumerated below:\n",
    "  $$\n",
    "  A  \\\\\n",
    "  D = diag(A) \\\\\n",
    "  R = A - D \\\\\n",
    "  b \\\\\n",
    "  x  \\\\\n",
    "  while l_2norm(Ax -b) > terminatingCondition: \\\\\n",
    "  x = (b - Ax)/flattened(D)\n",
    "  $$"
   ]
  },
  {
   "cell_type": "markdown",
   "metadata": {},
   "source": []
  },
  {
   "cell_type": "code",
   "execution_count": 4,
   "metadata": {},
   "outputs": [],
   "source": [
    "def jacobi(A: np.array,  b: np.array, x:np.array = None) -> np.array:\n",
    "    if x is None:\n",
    "        x = np.zeros(len(A[0]))\n",
    "    # Create a vector of the diagonal elements of A                                                                                                                                                \n",
    "    # and subtract them from A                                                                                                                                                                     \n",
    "    D = np.diag(A)\n",
    "    R = A - np.diagflat(D)\n",
    "    #tests for convergence via the spectral radius\n",
    "    if np.amax(np.abs(np.linalg.eigvals(R/D))) > 1:\n",
    "        print(\"x\")\n",
    "    # Iterate for N times                                                                                                                                                                          \n",
    "    while np.linalg.norm(b - np.dot(A,x)) > 1e-5:\n",
    "        x = (b - np.dot(R,x)) / D\n",
    "        residual = b - np.dot(A,x) \n",
    "        print(f'x: {x} residual: {residual}')\n",
    "    return x"
   ]
  },
  {
   "cell_type": "code",
   "execution_count": 10,
   "metadata": {},
   "outputs": [
    {
     "name": "stdout",
     "output_type": "stream",
     "text": [
      "x: [11.          4.33333333] residual: [-8.66666667 -1.21      ]\n",
      "x: [2.33333333 3.93      ] residual: [0.80666667 0.95333333]\n",
      "x: [3.14       4.24777778] residual: [-0.63555556 -0.08873333]\n",
      "x: [2.50444444 4.2182    ] residual: [0.05915556 0.06991111]\n",
      "x: [2.5636    4.2415037] residual: [-0.04660741 -0.00650711]\n",
      "x: [2.51699259 4.23933467] residual: [0.00433807 0.00512681]\n",
      "x: [2.52133067 4.2410436 ] residual: [-0.00341788 -0.00047719]\n",
      "x: [2.51791279 4.24088454] residual: [0.00031813 0.00037597]\n",
      "x: [2.51823092 4.24100986] residual: [-2.50644280e-04 -3.49937975e-05]\n",
      "x: [2.51798027 4.2409982 ] residual: [2.33291984e-05 2.75708708e-05]\n",
      "x: [2.5180036  4.24100739] residual: [-1.83805805e-05 -2.56621182e-06]\n",
      "x: [2.51798522 4.24100653] residual: [1.71080788e-06 2.02186386e-06]\n",
      "final x: [2.51798522 4.24100653]\n",
      "A: [[1.   2.  ]\n",
      " [0.11 3.  ]]\n",
      "b: [11. 13.]\n",
      "product of estimated solution with A: [10.99999829 12.99999798] \n"
     ]
    }
   ],
   "source": [
    "a = np.array([[1,2],[0.11,3]])\n",
    "b = np.array([11.0,13.0])\n",
    "guess = None\n",
    "x = jacobi(a,b,guess)\n",
    "print(f'final x: {x}')\n",
    "print(f'A: {a}')\n",
    "print(f'b: {b}')\n",
    "print(f'product of estimated solution with A: {a @ x} ')"
   ]
  }
 ],
 "metadata": {
  "kernelspec": {
   "display_name": "base",
   "language": "python",
   "name": "python3"
  },
  "language_info": {
   "codemirror_mode": {
    "name": "ipython",
    "version": 3
   },
   "file_extension": ".py",
   "mimetype": "text/x-python",
   "name": "python",
   "nbconvert_exporter": "python",
   "pygments_lexer": "ipython3",
   "version": "3.9.16"
  },
  "orig_nbformat": 4
 },
 "nbformat": 4,
 "nbformat_minor": 2
}
